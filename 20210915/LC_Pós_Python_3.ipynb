{
  "nbformat": 4,
  "nbformat_minor": 0,
  "metadata": {
    "colab": {
      "name": "LC - Pós - Python 3.ipynb",
      "provenance": [],
      "collapsed_sections": []
    },
    "kernelspec": {
      "name": "python3",
      "display_name": "Python 3"
    },
    "language_info": {
      "name": "python"
    }
  },
  "cells": [
    {
      "cell_type": "markdown",
      "metadata": {
        "id": "UO2xblXFJdNX"
      },
      "source": [
        "# Funções definidas pelo programador"
      ]
    },
    {
      "cell_type": "markdown",
      "metadata": {
        "id": "OR8_e2HIxQyj"
      },
      "source": [
        "**1. Função que não recebe argumentos** (e que faz tudo sempre igual):"
      ]
    },
    {
      "cell_type": "code",
      "metadata": {
        "id": "ay68fcgvxH6R"
      },
      "source": [
        "# Primeiro passo: declarar a função com o comando def\n",
        "\n",
        "def boa_tarde():\n",
        "    print('Boa tarde!')"
      ],
      "execution_count": null,
      "outputs": []
    },
    {
      "cell_type": "code",
      "metadata": {
        "colab": {
          "base_uri": "https://localhost:8080/"
        },
        "id": "eVcBYpxVxbCH",
        "outputId": "336190ce-1949-4f37-f853-0e9e08781e68"
      },
      "source": [
        "# Chamada da função. Observe os parênteses!\n",
        "\n",
        "boa_tarde()"
      ],
      "execution_count": null,
      "outputs": [
        {
          "output_type": "stream",
          "name": "stdout",
          "text": [
            "Boa tarde!\n"
          ]
        }
      ]
    },
    {
      "cell_type": "markdown",
      "metadata": {
        "id": "sSgnVMsOy0Ci"
      },
      "source": [
        "**2. Função que recebe um argumento e não retorna nada**"
      ]
    },
    {
      "cell_type": "code",
      "metadata": {
        "id": "FNGr9NFQzB1S"
      },
      "source": [
        "def boa_tarde_argumento(nome):\n",
        "    print('Muito boa tarde,', nome)"
      ],
      "execution_count": null,
      "outputs": []
    },
    {
      "cell_type": "code",
      "metadata": {
        "colab": {
          "base_uri": "https://localhost:8080/"
        },
        "id": "Iovb4o1gzQfC",
        "outputId": "30211821-252b-49ac-fa19-773c57cf3464"
      },
      "source": [
        "boa_tarde_argumento('Fulano')"
      ],
      "execution_count": null,
      "outputs": [
        {
          "output_type": "stream",
          "name": "stdout",
          "text": [
            "Muito boa tarde, Fulano\n"
          ]
        }
      ]
    },
    {
      "cell_type": "markdown",
      "metadata": {
        "id": "5PF-_9Yf9Bm6"
      },
      "source": [
        "**3. Funções que recebem e retornam argumentos**"
      ]
    },
    {
      "cell_type": "code",
      "metadata": {
        "id": "pvOyrdqu9I7C"
      },
      "source": [
        "def mais_um(n):\n",
        "    produto = n + 1\n",
        "    return produto  # O \"resultado\" da função é passado pelo comando return"
      ],
      "execution_count": null,
      "outputs": []
    },
    {
      "cell_type": "code",
      "metadata": {
        "colab": {
          "base_uri": "https://localhost:8080/"
        },
        "id": "WsUjK0f-9eQu",
        "outputId": "4bc26405-6c15-49cc-af46-2864fd41a0fb"
      },
      "source": [
        "mais_um(3)"
      ],
      "execution_count": null,
      "outputs": [
        {
          "output_type": "execute_result",
          "data": {
            "text/plain": [
              "4"
            ]
          },
          "metadata": {},
          "execution_count": 8
        }
      ]
    },
    {
      "cell_type": "code",
      "metadata": {
        "colab": {
          "base_uri": "https://localhost:8080/"
        },
        "id": "VzUShZBG9hGr",
        "outputId": "dd842847-7caa-4656-d060-d93a30276fe4"
      },
      "source": [
        "# Funções que recebem e retornam argumentos são potencialmente recursivas\n",
        "\n",
        "mais_um(mais_um(3))"
      ],
      "execution_count": null,
      "outputs": [
        {
          "output_type": "execute_result",
          "data": {
            "text/plain": [
              "5"
            ]
          },
          "metadata": {},
          "execution_count": 9
        }
      ]
    },
    {
      "cell_type": "code",
      "metadata": {
        "colab": {
          "base_uri": "https://localhost:8080/"
        },
        "id": "JFIkyb3v9_LA",
        "outputId": "a6458deb-6ebd-45a9-faab-33470b1b3dc5"
      },
      "source": [
        "# O resultado de uma função pode ser armazenado em uma variável\n",
        "\n",
        "resultado = mais_um(10)\n",
        "resultado"
      ],
      "execution_count": null,
      "outputs": [
        {
          "output_type": "execute_result",
          "data": {
            "text/plain": [
              "11"
            ]
          },
          "metadata": {},
          "execution_count": 10
        }
      ]
    },
    {
      "cell_type": "markdown",
      "metadata": {
        "id": "zRSk9uNGDwgM"
      },
      "source": [
        "# Exercícios\n",
        "\n",
        "1. Crie uma função palavras() que receba um texto (string) e retorne uma lista de palavras todas já convertidas para letras minúsculas. \n",
        "\n",
        "2. Crie uma função limpar() que filtre uma lista de palavras retornando somente aquelas compostas exclusivamente por letras, eliminando números, pontução, símbolos etc., inclusive os que aparecem no meio de palavras. Assim, por ex., seriam eliminados 'palavra.', 'palavre-se' etc.\n",
        "\n",
        "3. Crie uma função pipeline() que reúna essas duas funções anteriores na ordem em que aparecem. Portanto, ela deve receber uma string do texto e entregar uma lista de palavras \"limpas\".\n",
        "\n",
        "Dica: use o enunciado do Exercício 2 para testar as três funções."
      ]
    },
    {
      "cell_type": "markdown",
      "metadata": {
        "id": "W15SpbDuGzWg"
      },
      "source": [
        "# Mais exercícios\n",
        "\n",
        "Nestes exercícios, você vai usar as funções criadas anteriormente e acrescentar outras.\n",
        "\n",
        "1. Crie uma função vocab() que receba um texto e retorne o vocabulário completo desse texto, ou seja, uma lista das palavras (sem repetição) que o compõem.\n",
        "\n",
        "2. As listas do Python têm um método count() que retorna o número de vezes que um determinado item aparece na lista."
      ]
    },
    {
      "cell_type": "code",
      "metadata": {
        "colab": {
          "base_uri": "https://localhost:8080/"
        },
        "id": "UqEnXzS4a-dZ",
        "outputId": "706ec7c4-554e-4596-bcb1-458aea11fe85"
      },
      "source": [
        "['a', 'a', 'a', 'b', 'c'].count('a')"
      ],
      "execution_count": null,
      "outputs": [
        {
          "output_type": "execute_result",
          "data": {
            "text/plain": [
              "3"
            ]
          },
          "metadata": {},
          "execution_count": 22
        }
      ]
    },
    {
      "cell_type": "markdown",
      "metadata": {
        "id": "7kWnT8-BbRBd"
      },
      "source": [
        "Use esse método para gerar uma função que entregue uma lista de tuplas com palavras e contagens do vocabulário, na forma: [(palavra, número_de_ocorrências)]."
      ]
    },
    {
      "cell_type": "markdown",
      "metadata": {
        "id": "wsGkRIUZJdet"
      },
      "source": [
        "# Módulos externos\n",
        "\n",
        "Os módulos externos são bibliotecas para propósitos específicos, como fazer desenhos ou operações matemáticas especiais. Eles devem ser carregados através do comando `import`. "
      ]
    },
    {
      "cell_type": "code",
      "metadata": {
        "id": "jpq_16ViJSn3",
        "colab": {
          "base_uri": "https://localhost:8080/"
        },
        "outputId": "fe552857-e7cd-4175-db3b-bcf142d2f7be"
      },
      "source": [
        "# Importação simples\n",
        "\n",
        "import math\n",
        "\n",
        "print(math.log(10))\n",
        "print(math.log10(10))"
      ],
      "execution_count": null,
      "outputs": [
        {
          "output_type": "stream",
          "name": "stdout",
          "text": [
            "2.302585092994046\n",
            "1.0\n"
          ]
        }
      ]
    },
    {
      "cell_type": "code",
      "metadata": {
        "colab": {
          "base_uri": "https://localhost:8080/"
        },
        "id": "QhkFDJE5RdfP",
        "outputId": "a9f8420e-8e4c-4a1d-fc37-1b59c906520c"
      },
      "source": [
        "# Importação com \"apelido\"\n",
        "\n",
        "import statistics as st\n",
        "\n",
        "amostra = [1, 2, 5, 10]\n",
        "\n",
        "print(st.mean(amostra))  # média\n",
        "print(st.median(amostra))  # mediana\n",
        "print(st.stdev(amostra))  # desvio-padrão"
      ],
      "execution_count": null,
      "outputs": [
        {
          "output_type": "stream",
          "name": "stdout",
          "text": [
            "4.5\n",
            "3.5\n",
            "4.041451884327381\n"
          ]
        }
      ]
    },
    {
      "cell_type": "code",
      "metadata": {
        "colab": {
          "base_uri": "https://localhost:8080/"
        },
        "id": "bGgI8MnaRnpc",
        "outputId": "c1b80ffb-5eb8-42e1-bc6a-167ef365d4ef"
      },
      "source": [
        "# Importação de um objeto interno ao módulo\n",
        "\n",
        "from collections import Counter  # Cuidado com as maiúsculas e minúsculas!\n",
        "\n",
        "c = Counter(['a', 'a', 'a', 'b', 'c'])\n",
        "print(c)\n",
        "print(c.most_common(2))  # Mostra N itens do dicionário ordenados por valor"
      ],
      "execution_count": null,
      "outputs": [
        {
          "output_type": "stream",
          "name": "stdout",
          "text": [
            "Counter({'a': 3, 'b': 1, 'c': 1})\n",
            "[('a', 3), ('b', 1)]\n"
          ]
        }
      ]
    },
    {
      "cell_type": "markdown",
      "metadata": {
        "id": "dBj0qeHe866_"
      },
      "source": [
        "# Tarefa\n",
        "\n",
        "Chegou a hora de trabalhar com um texto sério de verdade!\n",
        "\n",
        "Com base nos seus conhecimentos sobre funções e usando os módulos externos que acabamos de estudar, você deve apresentar estas estatísticas descritivas do texto a seguir:\n",
        "\n",
        "1. Número total de caracteres (incluindo espaços, símbolos etc.).\n",
        "\n",
        "2. Número de caracteres sem os espaços em branco.\n",
        "\n",
        "3. Número de palavras.\n",
        "\n",
        "4. Tamanho do vocabulário.\n",
        "\n",
        "5. Tamanho médio das palavras (número de caracteres).\n",
        "\n",
        "6. Desvio-padrão do tamanho médio das palavras.\n",
        "\n",
        "IMPORTANTE! Para cada resposta, você deve criar uma função diferente.\n",
        "\n",
        "O texto a ser utilizado é este fragmento das legendas do filme O Ataque dos Monstros Caranguejos (\"The Attack of the Crab Monsters), de 1957:\n",
        "\n",
        "---\n",
        "\n",
        "Apparently we have one of those biological freaks resulting from an overdose of radiation poisoning. The way to explain it is... Look. Electricity. The free electron in the copper atom breaks off to circle the next atom, taking the charge along the wire. The free electrons jump from atom to atom along the copper at the speed of light.\n",
        "\n",
        "Well, something like that has happened to our crab. But instead of free electrons, the crab has free atoms... All disconnected. It's like a mass of liquid... with a permanent shape.\n",
        "\n",
        "Any metal, therefore, that the crab eats will be assimilated in his body of solid energy, becoming part of the crab.\n",
        "\n",
        "---\n",
        "\n",
        "\n"
      ]
    }
  ]
}
