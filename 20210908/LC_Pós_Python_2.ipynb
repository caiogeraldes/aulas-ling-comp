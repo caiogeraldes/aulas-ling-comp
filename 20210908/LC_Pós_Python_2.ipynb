{
  "nbformat": 4,
  "nbformat_minor": 0,
  "metadata": {
    "colab": {
      "name": "LC - Pós - Python 2.ipynb",
      "provenance": []
    },
    "kernelspec": {
      "name": "python3",
      "display_name": "Python 3"
    },
    "language_info": {
      "name": "python"
    }
  },
  "cells": [
    {
      "cell_type": "markdown",
      "metadata": {
        "id": "B5YRY9qkLbxD"
      },
      "source": [
        "# Aquecimento: Conversão de objetos em Python\n",
        "\n",
        "Em Python, as estruturas de dados são objetos, isto é, possuem propriedades e métodos próprios.\n",
        "\n",
        "Esses objetos podem ser criados facilmente a partir de outros já existentes. Já vimos como criar strings a partir de listas e vice-versa. Vamos experimentar também realizar operações semelhantes com outras classes de objetos."
      ]
    },
    {
      "cell_type": "code",
      "metadata": {
        "colab": {
          "base_uri": "https://localhost:8080/"
        },
        "id": "45GTWQxNMR1K",
        "outputId": "5c667614-bf05-4c56-c808-a867d8a0769a"
      },
      "source": [
        "# String em lista\n",
        "s = 'Essa string vai mudar'\n",
        "lista = s.split()\n",
        "lista"
      ],
      "execution_count": null,
      "outputs": [
        {
          "output_type": "execute_result",
          "data": {
            "text/plain": [
              "['Essa', 'string', 'vai', 'mudar']"
            ]
          },
          "metadata": {},
          "execution_count": 2
        }
      ]
    },
    {
      "cell_type": "code",
      "metadata": {
        "colab": {
          "base_uri": "https://localhost:8080/",
          "height": 35
        },
        "id": "OkPuitmVNVub",
        "outputId": "8a34d752-4879-4e29-81cc-01c6568a7b2e"
      },
      "source": [
        "# Lista em string\n",
        "' '.join(lista)"
      ],
      "execution_count": null,
      "outputs": [
        {
          "output_type": "execute_result",
          "data": {
            "application/vnd.google.colaboratory.intrinsic+json": {
              "type": "string"
            },
            "text/plain": [
              "'Essa string vai mudar'"
            ]
          },
          "metadata": {},
          "execution_count": 4
        }
      ]
    },
    {
      "cell_type": "markdown",
      "metadata": {
        "id": "z-u4Y2OeNe--"
      },
      "source": [
        "**É possível ver o tipo de objeto de uma variável qualquer através da função type().**"
      ]
    },
    {
      "cell_type": "code",
      "metadata": {
        "colab": {
          "base_uri": "https://localhost:8080/"
        },
        "id": "uctnJNkwNoU1",
        "outputId": "484f319a-a8bb-4023-f4f6-29858f00ded7"
      },
      "source": [
        "print(type(s))\n",
        "print(type(lista))"
      ],
      "execution_count": null,
      "outputs": [
        {
          "output_type": "stream",
          "name": "stdout",
          "text": [
            "<class 'str'>\n",
            "<class 'list'>\n"
          ]
        }
      ]
    },
    {
      "cell_type": "markdown",
      "metadata": {
        "id": "9JkMvgcRNxfg"
      },
      "source": [
        "O método split() separa uma string usando como delimitador o caracter que serve de parâmetro (entre parênteses). O delimitador por default é o espaço em branco, que é usado quando nada mais é indicado.\n",
        "\n",
        "Outra forma de transformar um objeto em lista é através da função list()."
      ]
    },
    {
      "cell_type": "code",
      "metadata": {
        "colab": {
          "base_uri": "https://localhost:8080/"
        },
        "id": "m2UD0_T7NOLV",
        "outputId": "52118e72-450f-4f46-f7b3-de7d3ba13e6a"
      },
      "source": [
        "list(s)"
      ],
      "execution_count": null,
      "outputs": [
        {
          "output_type": "execute_result",
          "data": {
            "text/plain": [
              "['E',\n",
              " 's',\n",
              " 's',\n",
              " 'a',\n",
              " ' ',\n",
              " 's',\n",
              " 't',\n",
              " 'r',\n",
              " 'i',\n",
              " 'n',\n",
              " 'g',\n",
              " ' ',\n",
              " 'v',\n",
              " 'a',\n",
              " 'i',\n",
              " ' ',\n",
              " 'm',\n",
              " 'u',\n",
              " 'd',\n",
              " 'a',\n",
              " 'r']"
            ]
          },
          "metadata": {},
          "execution_count": 3
        }
      ]
    },
    {
      "cell_type": "markdown",
      "metadata": {
        "id": "wjQtJty2OoAh"
      },
      "source": [
        "Métodos semelhantes podem ser usados para transformar virtualmente qualquer tipo de dado em qualquer outro."
      ]
    },
    {
      "cell_type": "code",
      "metadata": {
        "colab": {
          "base_uri": "https://localhost:8080/",
          "height": 35
        },
        "id": "udpIafgIOxBH",
        "outputId": "332b31e4-9f32-44f7-c164-602677c1046c"
      },
      "source": [
        "# Transforma um número em string\n",
        "x = 12345\n",
        "sx = str(x)\n",
        "sx"
      ],
      "execution_count": null,
      "outputs": [
        {
          "output_type": "execute_result",
          "data": {
            "application/vnd.google.colaboratory.intrinsic+json": {
              "type": "string"
            },
            "text/plain": [
              "'12345'"
            ]
          },
          "metadata": {},
          "execution_count": 6
        }
      ]
    },
    {
      "cell_type": "markdown",
      "metadata": {
        "id": "kSsOquYXQBDv"
      },
      "source": [
        "# Exercícios\n",
        "\n",
        "1. Transforme o número 2.3 em inteiro.\n",
        "2. Conte o número de caracteres do número 999.\n",
        "3. Quais as letras usadas para escrever \"abracadabra\"?\n",
        "\n",
        "Bônus\n",
        "\n",
        "* Coloque as letras da resposta (3) em ordem alfabética através da função sorted().\n",
        "\n",
        "---\n",
        "**Exercícios em grupo**\n",
        "\n",
        "4. Você ainda deve ter aí aquele dicionário com a lista de ingredientes do bridageiro da Bela Gil. Ao usá-lo, você considerou que o método de estocar ingredientes em dicionários é tão prático que decidiu fazer disso sua nova meta de vida: gerar um caderno de receitas em Python! Por ora, além do brigadeiro da Bela Gil, vamos acrescentar somente mais uma receita simples: a do brigadeiro convencional.\n",
        "\n",
        "* 1 lata de Leite Moça\n",
        "* 2 colheres de sopa de Nescau Light\n",
        "* 1 colher de sopa de manteiga com sal\n",
        "\n",
        "Você deve criar uma estrutura de dados (qual?) capaz de acomodar suas duas receitas (e mais todas as outras que virão).\n",
        "\n",
        "5. Digamos que você esteja preparando seu novo brigadeiro e tenha se esquecido quantas colheres de manteiga deveria usar. Use a sua nova estrutura de dados para mostrar esse número."
      ]
    },
    {
      "cell_type": "markdown",
      "metadata": {
        "id": "g1E1aRBrLL6a"
      },
      "source": [
        "# Controle do Fluxo de Execução"
      ]
    },
    {
      "cell_type": "markdown",
      "metadata": {
        "id": "F_TFLhYRLUXS"
      },
      "source": [
        "**Operadores de comparação**\n",
        "\n",
        "\n",
        "x == y  \n",
        "x != y  \n",
        "x > y   \n",
        "x < y  \n",
        "x >= y  \n",
        "x <= y  "
      ]
    },
    {
      "cell_type": "code",
      "metadata": {
        "id": "UT-zYDOGLCx8",
        "colab": {
          "base_uri": "https://localhost:8080/"
        },
        "outputId": "4d00cfff-a79d-4fbf-ca6a-e9ee7751dab7"
      },
      "source": [
        "3 == 3"
      ],
      "execution_count": null,
      "outputs": [
        {
          "output_type": "execute_result",
          "data": {
            "text/plain": [
              "True"
            ]
          },
          "metadata": {},
          "execution_count": 14
        }
      ]
    },
    {
      "cell_type": "code",
      "metadata": {
        "colab": {
          "base_uri": "https://localhost:8080/"
        },
        "id": "FEtLnleCmLEp",
        "outputId": "270d0987-9023-47a6-e283-a7a272b13977"
      },
      "source": [
        "s == s"
      ],
      "execution_count": null,
      "outputs": [
        {
          "output_type": "execute_result",
          "data": {
            "text/plain": [
              "True"
            ]
          },
          "metadata": {},
          "execution_count": 15
        }
      ]
    },
    {
      "cell_type": "code",
      "metadata": {
        "colab": {
          "base_uri": "https://localhost:8080/"
        },
        "id": "qz8d7XajmPA_",
        "outputId": "bcf996a0-0d65-4744-d8e1-fc213b1cd940"
      },
      "source": [
        "2 < 2"
      ],
      "execution_count": null,
      "outputs": [
        {
          "output_type": "execute_result",
          "data": {
            "text/plain": [
              "False"
            ]
          },
          "metadata": {},
          "execution_count": 17
        }
      ]
    },
    {
      "cell_type": "code",
      "metadata": {
        "colab": {
          "base_uri": "https://localhost:8080/"
        },
        "id": "F-B8ijb-mT6M",
        "outputId": "eba89b82-b70d-4713-e82b-272b424ddd90"
      },
      "source": [
        "2 <= 2"
      ],
      "execution_count": null,
      "outputs": [
        {
          "output_type": "execute_result",
          "data": {
            "text/plain": [
              "True"
            ]
          },
          "metadata": {},
          "execution_count": 18
        }
      ]
    },
    {
      "cell_type": "code",
      "metadata": {
        "colab": {
          "base_uri": "https://localhost:8080/"
        },
        "id": "zvQaNL1Ome_H",
        "outputId": "f72fd0f1-4a12-4486-8fbf-ca51e8b2bc04"
      },
      "source": [
        "(2 < 2) == (s != s)"
      ],
      "execution_count": null,
      "outputs": [
        {
          "output_type": "execute_result",
          "data": {
            "text/plain": [
              "True"
            ]
          },
          "metadata": {},
          "execution_count": 19
        }
      ]
    },
    {
      "cell_type": "markdown",
      "metadata": {
        "id": "kEh1HuaenKoe"
      },
      "source": [
        "Operador de inlcusão: in"
      ]
    },
    {
      "cell_type": "code",
      "metadata": {
        "colab": {
          "base_uri": "https://localhost:8080/"
        },
        "id": "YnQ7fhDjnNOL",
        "outputId": "bc230d37-1011-4985-eca9-8926a75981c7"
      },
      "source": [
        "'a' in 'abc'"
      ],
      "execution_count": null,
      "outputs": [
        {
          "output_type": "execute_result",
          "data": {
            "text/plain": [
              "True"
            ]
          },
          "metadata": {},
          "execution_count": 20
        }
      ]
    },
    {
      "cell_type": "code",
      "metadata": {
        "colab": {
          "base_uri": "https://localhost:8080/"
        },
        "id": "Gl-1Ya1cnW5V",
        "outputId": "376d3b9f-7101-418c-f5ee-9ebf1f261a09"
      },
      "source": [
        "# Atenção!!!\n",
        "\n",
        "print('a' in ['a', 'b', 'c'])\n",
        "print('a' in ['abc'])\n",
        "print('a' in ['abc'][0])"
      ],
      "execution_count": null,
      "outputs": [
        {
          "output_type": "stream",
          "name": "stdout",
          "text": [
            "True\n",
            "False\n",
            "True\n"
          ]
        }
      ]
    },
    {
      "cell_type": "markdown",
      "metadata": {
        "id": "Btz3h9n6wDi7"
      },
      "source": [
        "**Conectivos lógicos**\n",
        "\n",
        "Os conectivos são funções que recebem como argumentos valores de verdade (objetos Booleanos: True / False) e retornam valores de verdade resultantes da combinação.\n",
        "\n",
        "* x and y: True se x e y forem True\n",
        "* x or y: True se ao menos uma das variáveis for True\n",
        "* not x: Valor de verdade inverso de x\n",
        "\n"
      ]
    },
    {
      "cell_type": "code",
      "metadata": {
        "colab": {
          "base_uri": "https://localhost:8080/"
        },
        "id": "lHL3Wy_RwnYw",
        "outputId": "01c6914b-f024-4625-d763-8af175cda1d9"
      },
      "source": [
        "(0 == 0) and (3 > 2)"
      ],
      "execution_count": 7,
      "outputs": [
        {
          "output_type": "execute_result",
          "data": {
            "text/plain": [
              "True"
            ]
          },
          "metadata": {},
          "execution_count": 7
        }
      ]
    },
    {
      "cell_type": "code",
      "metadata": {
        "colab": {
          "base_uri": "https://localhost:8080/"
        },
        "id": "kVGc2HS9xYxi",
        "outputId": "9ddecdad-980c-4f87-f48e-a30f1a6a3843"
      },
      "source": [
        "(0 == 0) or (3 < 2)"
      ],
      "execution_count": 8,
      "outputs": [
        {
          "output_type": "execute_result",
          "data": {
            "text/plain": [
              "True"
            ]
          },
          "metadata": {},
          "execution_count": 8
        }
      ]
    },
    {
      "cell_type": "code",
      "metadata": {
        "colab": {
          "base_uri": "https://localhost:8080/"
        },
        "id": "FM7Yb_Moxd1g",
        "outputId": "e20709c7-df7a-48fe-f1d1-4dec7527ddda"
      },
      "source": [
        "not True"
      ],
      "execution_count": 9,
      "outputs": [
        {
          "output_type": "execute_result",
          "data": {
            "text/plain": [
              "False"
            ]
          },
          "metadata": {},
          "execution_count": 9
        }
      ]
    },
    {
      "cell_type": "code",
      "metadata": {
        "colab": {
          "base_uri": "https://localhost:8080/"
        },
        "id": "qc7nMVeVxhVQ",
        "outputId": "5e64cf24-555e-40b8-8fe5-cc7a7a003021"
      },
      "source": [
        "not not True"
      ],
      "execution_count": 10,
      "outputs": [
        {
          "output_type": "execute_result",
          "data": {
            "text/plain": [
              "True"
            ]
          },
          "metadata": {},
          "execution_count": 10
        }
      ]
    },
    {
      "cell_type": "markdown",
      "metadata": {
        "id": "l1HH6o6NLaLT"
      },
      "source": [
        "# Condicionais (`if`)\n",
        "\n"
      ]
    },
    {
      "cell_type": "code",
      "metadata": {
        "colab": {
          "base_uri": "https://localhost:8080/"
        },
        "id": "U_stsykbrknn",
        "outputId": "84731cdf-778f-452d-8b0e-2b951e146604"
      },
      "source": [
        "### Preencha os valores de x e y:\n",
        "x = 9\n",
        "y = 7\n",
        "\n",
        "if x > y:\n",
        "    print('x é o maior!')  # Observe a indentação!\n",
        "elif y > x:\n",
        "    print('y é o maior!')\n",
        "else:\n",
        "    print('x e y são iguais.')"
      ],
      "execution_count": null,
      "outputs": [
        {
          "output_type": "stream",
          "name": "stdout",
          "text": [
            "x é o maior!\n"
          ]
        }
      ]
    },
    {
      "cell_type": "markdown",
      "metadata": {
        "id": "QjJFIfnYLffP"
      },
      "source": [
        "# Loops\n",
        "\n",
        "No processamento computacional, muitas tarefas são executas de forma repetitiva. Por exemplo, pode ser necessário modificar o valor de uma variável até que determinada condição seja satisfeita.\n",
        "\n",
        "No Python, existem certas declarações especificamente voltadas ao fluxo repetitivo de dados. Uma das estruturas mais comuns para isso são os loops (laços) que usam a declaração `for`.\n",
        "\n",
        "Basicamente, há duas maneiras de usá-las: \n",
        "\n",
        "1. Com iterações sobre os itens de uma sequência (lista ou string);\n",
        "\n",
        "2. Com iterações na faixa de um intervalo numérico."
      ]
    },
    {
      "cell_type": "code",
      "metadata": {
        "colab": {
          "base_uri": "https://localhost:8080/"
        },
        "id": "SlKcmT3SB2Fq",
        "outputId": "3270364a-b2af-4f86-fab1-16b6009ec5d9"
      },
      "source": [
        "# 1. Com sequências\n",
        "\n",
        "for i in lista:\n",
        "    print('---', i)  # Atenção à indentação!\n",
        "\n",
        "print('!')  # Fora da intendação: fora do loop"
      ],
      "execution_count": null,
      "outputs": [
        {
          "output_type": "stream",
          "name": "stdout",
          "text": [
            "--- Essa\n",
            "--- string\n",
            "--- vai\n",
            "--- mudar\n",
            "!\n"
          ]
        }
      ]
    },
    {
      "cell_type": "code",
      "metadata": {
        "colab": {
          "base_uri": "https://localhost:8080/"
        },
        "id": "eNkTFjNrAeOX",
        "outputId": "8b6f6c8a-5c49-4e74-c67a-7784490ab705"
      },
      "source": [
        "# 2. Intervalos numéricos\n",
        "\n",
        "# O Python tem a função range(), que retorna uma lista de inteiros\n",
        "list(range(5))"
      ],
      "execution_count": null,
      "outputs": [
        {
          "output_type": "execute_result",
          "data": {
            "text/plain": [
              "[0, 1, 2, 3, 4]"
            ]
          },
          "metadata": {},
          "execution_count": 28
        }
      ]
    },
    {
      "cell_type": "code",
      "metadata": {
        "colab": {
          "base_uri": "https://localhost:8080/"
        },
        "id": "a3X4gWw-DOBN",
        "outputId": "30f57f0a-5482-415e-8099-d85bb4d3ae49"
      },
      "source": [
        "for i in range(5):\n",
        "    print('Sabe quantas vezes eu já escrevi?', i)\n",
        "\n",
        "print('Pronto, acabou o loop. Não escrevo mais.')"
      ],
      "execution_count": null,
      "outputs": [
        {
          "output_type": "stream",
          "name": "stdout",
          "text": [
            "Sabe quantas vezes eu já escrevi? 0\n",
            "Sabe quantas vezes eu já escrevi? 1\n",
            "Sabe quantas vezes eu já escrevi? 2\n",
            "Sabe quantas vezes eu já escrevi? 3\n",
            "Sabe quantas vezes eu já escrevi? 4\n",
            "Pronto, acabou o loop. Não escrevo mais.\n"
          ]
        }
      ]
    },
    {
      "cell_type": "markdown",
      "metadata": {
        "id": "Yi7lSzdnsu03"
      },
      "source": [
        "# Exercícios\n",
        "\n",
        "Aqui está um exemplo de texto transcrito para um alfabeto de base latina cujo original está em vulcano, a língua materna de Spock:\n",
        "\n",
        "> *Ozhika tor wuh palikaya t' kau; ri wuh shaht*\n",
        ">\n",
        "> (\"A lógica é o princípio da sabedoria e não seu encerramento.\")\n",
        "\n",
        "1. Crie uma lista com todas as letras usadas no texto original (com repetição), mas só as letras, deixando de fora os caracteres não-alfabéticos.\n",
        "\n",
        "2. Apresente o alfabeto (sem repetição) só em minúsculas ou só em maiúsculas, à sua escolha. Atenção: letras maiúsculas e minúsculas não devem ser consideradas distintas!\n",
        "\n",
        "3. Coloque essas letras na ordem alfabética.\n",
        "\n",
        "4. Spock tem mania de contar quantos caracteres exitem em cada palavra escrita, mas mesmo ele pode se cansar de fazer contas. Para auxiliá-lo, escreva um loop que crie uma lista de tuplas cada palavra do dito vulcano acima juntamente com o seu número de caracteres: [('Ozhika', 6), ('tor', 3), ...]\n",
        "\n",
        "---\n",
        "**Exercício em grupo**\n",
        "\n",
        "5. Pegue o seu livro de receitas. O Brigadeiro da Bela Gil que está lá mostra  as quantidades para uma pessoa. Ao provar a receita, você deve ter considerado que vale a pena chamar mais três amigos para degustação dessa inebriante iguaria. Usando um loop, recalcule as quantidades dos ingredientes para quatro pessoas."
      ]
    },
    {
      "cell_type": "markdown",
      "metadata": {
        "id": "IY1hImpMLg7z"
      },
      "source": [
        "# Compreensão de listas\n",
        "\n",
        "Trata-se de uma forma concisa de gerar uma lista a partir de uma sequência qualquer, que pode ser outra lista. A sintaxe básica da operação é esta:\n",
        "\n",
        "[*var_saída* for *var_iter* in *sequência*]"
      ]
    },
    {
      "cell_type": "code",
      "metadata": {
        "colab": {
          "base_uri": "https://localhost:8080/"
        },
        "id": "BaKE4tSaXsfp",
        "outputId": "a7e7a1b1-5ad9-4a56-cdec-669771e0fbf1"
      },
      "source": [
        "[i for i in 'abc']"
      ],
      "execution_count": 1,
      "outputs": [
        {
          "output_type": "execute_result",
          "data": {
            "text/plain": [
              "['a', 'b', 'c']"
            ]
          },
          "metadata": {},
          "execution_count": 1
        }
      ]
    },
    {
      "cell_type": "code",
      "metadata": {
        "colab": {
          "base_uri": "https://localhost:8080/"
        },
        "id": "jz5guqT1X76P",
        "outputId": "7c5bbc3b-540c-43a8-e8d6-fb84a4fc322a"
      },
      "source": [
        "[i + 1 for i in (10, 20, 30)]"
      ],
      "execution_count": 2,
      "outputs": [
        {
          "output_type": "execute_result",
          "data": {
            "text/plain": [
              "[11, 21, 31]"
            ]
          },
          "metadata": {},
          "execution_count": 2
        }
      ]
    },
    {
      "cell_type": "code",
      "metadata": {
        "colab": {
          "base_uri": "https://localhost:8080/"
        },
        "id": "0TjJ45nHZHpv",
        "outputId": "e4557696-b24d-432b-9616-d31004f73228"
      },
      "source": [
        "# É comum atribuir a lista gerada a uma nova variável de lista\n",
        "\n",
        "maiusc = [i.upper() for i in ['primeira', 'segunda', 'terceira']]\n",
        "maiusc"
      ],
      "execution_count": 3,
      "outputs": [
        {
          "output_type": "execute_result",
          "data": {
            "text/plain": [
              "['PRIMEIRA', 'SEGUNDA', 'TERCEIRA']"
            ]
          },
          "metadata": {},
          "execution_count": 3
        }
      ]
    },
    {
      "cell_type": "markdown",
      "metadata": {
        "id": "P5MwHXUtLgfR"
      },
      "source": [
        "**Compreensão de lista para Filtragem de Dados**\n",
        "\n",
        "É possível acrescentar uma condição ou conjunto de condições para a formação da lista resultante. A condição é introduzida pela declaração `if`.\n",
        "\n",
        "[*var_saída* for *var_iter* in *sequência* if *condição*]\n"
      ]
    },
    {
      "cell_type": "code",
      "metadata": {
        "colab": {
          "base_uri": "https://localhost:8080/"
        },
        "id": "P3bXyGDsvUol",
        "outputId": "89c452e0-4f36-4ce3-8c46-0a6a7ec19d05"
      },
      "source": [
        "[i ** 2 for i in range(10) if i > 5]"
      ],
      "execution_count": 4,
      "outputs": [
        {
          "output_type": "execute_result",
          "data": {
            "text/plain": [
              "[36, 49, 64, 81]"
            ]
          },
          "metadata": {},
          "execution_count": 4
        }
      ]
    },
    {
      "cell_type": "code",
      "metadata": {
        "colab": {
          "base_uri": "https://localhost:8080/"
        },
        "id": "bi6Wu0sTvUN5",
        "outputId": "491a30d3-945f-4e2f-e1ed-64094e2b659f"
      },
      "source": [
        "[i for i in ['abacate', 'avelã', 'maçã'] if i[0] == 'a']"
      ],
      "execution_count": 11,
      "outputs": [
        {
          "output_type": "execute_result",
          "data": {
            "text/plain": [
              "['abacate', 'avelã']"
            ]
          },
          "metadata": {},
          "execution_count": 11
        }
      ]
    },
    {
      "cell_type": "markdown",
      "metadata": {
        "id": "_McMzhY-zEow"
      },
      "source": [
        "# Tarefa\n",
        "\n",
        "1. Usando nossa última receita de brigadeiro, aplique a compreensão de listas para exibir *somente* os nomes de produtos da Nestlé. Eles devem, também, ser exibidos em letras maiúsculas.\n",
        "\n",
        "2. Refaça o programa que calcula quantidades para quatro pessoas, desta vez usando compreensão de listas."
      ]
    },
    {
      "cell_type": "code",
      "metadata": {
        "id": "09bTUXpUvUAr"
      },
      "source": [
        ""
      ],
      "execution_count": null,
      "outputs": []
    }
  ]
}
