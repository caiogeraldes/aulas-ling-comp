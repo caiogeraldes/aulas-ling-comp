{
 "cells": [
  {
   "cell_type": "markdown",
   "metadata": {
    "id": "F9t1Mt8Op73K"
   },
   "source": [
    "# Linguística Computacional - Pós - 2021\n",
    "# Aula 1 - Python\n",
    "\n",
    "Marcos Lopes e Marcello Modesto\n",
    "\n",
    "\n",
    "---\n",
    "\n"
   ]
  },
  {
   "cell_type": "markdown",
   "metadata": {
    "id": "-pHYc6z16JL-"
   },
   "source": [
    "# Hello, world!"
   ]
  },
  {
   "cell_type": "code",
   "execution_count": 1,
   "metadata": {
    "id": "Wn4D05LT5-vR",
    "scrolled": true
   },
   "outputs": [
    {
     "name": "stdout",
     "output_type": "stream",
     "text": [
      "Hello, world!\n"
     ]
    }
   ],
   "source": [
    "print('Hello, world!')"
   ]
  },
  {
   "cell_type": "markdown",
   "metadata": {
    "id": "vrTxiuSM6aLC"
   },
   "source": [
    "# Operações aritméticas e exibição no Colab"
   ]
  },
  {
   "cell_type": "code",
   "execution_count": 2,
   "metadata": {
    "id": "1lTRAVHM6S2E"
   },
   "outputs": [
    {
     "data": {
      "text/plain": [
       "2"
      ]
     },
     "execution_count": 2,
     "metadata": {},
     "output_type": "execute_result"
    }
   ],
   "source": [
    "1 + 1"
   ]
  },
  {
   "cell_type": "code",
   "execution_count": 3,
   "metadata": {
    "id": "0JlOFIxE6SzK"
   },
   "outputs": [
    {
     "name": "stdout",
     "output_type": "stream",
     "text": [
      "2\n"
     ]
    }
   ],
   "source": [
    "print(1 + 1)"
   ]
  },
  {
   "cell_type": "markdown",
   "metadata": {},
   "source": [
    "Ele apenas avalia e printa implicitamente apenas a última asserção. Para obrigar printar, usar duas vezes print."
   ]
  },
  {
   "cell_type": "code",
   "execution_count": 4,
   "metadata": {
    "id": "UAQI6cEW6Swj"
   },
   "outputs": [
    {
     "name": "stdout",
     "output_type": "stream",
     "text": [
      "3\n"
     ]
    }
   ],
   "source": [
    "1 + 1\n",
    "print(1 + 2)"
   ]
  },
  {
   "cell_type": "code",
   "execution_count": 5,
   "metadata": {
    "id": "_gsxXT5n6St8"
   },
   "outputs": [
    {
     "name": "stdout",
     "output_type": "stream",
     "text": [
      "2\n",
      "3\n"
     ]
    }
   ],
   "source": [
    "print(1 + 1)\n",
    "print(1 + 2)"
   ]
  },
  {
   "cell_type": "markdown",
   "metadata": {
    "id": "ETYxxdDA8OHw"
   },
   "source": [
    "\n",
    "* Os operadores aritméticos das quatro operações básicas são os usuais: +, -, * e /\n",
    "* Como na notação convencional da aritmética, é possível trocar a ordem de execução das operações pelo uso de parênteses.\n",
    "* O separador de decimais no Python é o ponto (e não a vírgula).\n",
    "\n"
   ]
  },
  {
   "cell_type": "code",
   "execution_count": 6,
   "metadata": {
    "id": "p29a54yu6SrU"
   },
   "outputs": [
    {
     "name": "stdout",
     "output_type": "stream",
     "text": [
      "18\n",
      "48\n"
     ]
    }
   ],
   "source": [
    "print(10 + 2 * 4)\n",
    "print((10 + 2) * 4)"
   ]
  },
  {
   "cell_type": "code",
   "execution_count": 7,
   "metadata": {
    "id": "XOmdinBK6Soo"
   },
   "outputs": [
    {
     "data": {
      "text/plain": [
       "4.0"
      ]
     },
     "execution_count": 7,
     "metadata": {},
     "output_type": "execute_result"
    }
   ],
   "source": [
    "2 / 0.5"
   ]
  },
  {
   "cell_type": "markdown",
   "metadata": {
    "id": "fd2D962U-ulX"
   },
   "source": [
    "# Variáveis e tipos de objetos\n",
    "\n",
    "Pode-se pensar nas variáveis como nomes dados a objetos. \n",
    "\n",
    "Inicialmente, vamos entender os objetos como estruturas de dados, isto é, associados a certos tipos de valores (números, texto etc.)\n",
    "\n",
    "Os nomes das variáveis devem começar por uma letra. Podem conter letras, números e o sublinhado (_). É interessante que sejam claramente descritivos dos dados a que estão associados.\n",
    "\n",
    "Para atribuir um valor a uma variável no Python, basta declarar o nome da variável e o valor, mediados pelo sinal de atribuição (=)."
   ]
  },
  {
   "cell_type": "code",
   "execution_count": 72,
   "metadata": {
    "id": "XeGlaoL36SmG"
   },
   "outputs": [],
   "source": [
    "peso: int = 70 # integer"
   ]
  },
  {
   "cell_type": "markdown",
   "metadata": {
    "id": "2mQF3LFYByyr"
   },
   "source": [
    "Para sabe o valor atribuído a uma variável, é só usar a função print() e passar a variável como argumento."
   ]
  },
  {
   "cell_type": "code",
   "execution_count": 9,
   "metadata": {
    "id": "Mf3lKEUs6Sjb"
   },
   "outputs": [
    {
     "name": "stdout",
     "output_type": "stream",
     "text": [
      "70\n"
     ]
    }
   ],
   "source": [
    "print(peso)"
   ]
  },
  {
   "cell_type": "markdown",
   "metadata": {
    "id": "iZItN5vMCpcL"
   },
   "source": [
    "# Exercícios\n",
    "\n",
    "1. Declare uma variável chamada \"altura\" e atribua a ela o valor correspondente a 1,70 m.\n",
    "\n",
    "2. Com base no valor de \"peso\" e da \"altura\" que você acaba de declarar, vamos calcular o Índice de Massa Corporal (IMC), cuja fórmula é a seguinte:\n",
    "\n",
    "$IMC = \\frac{peso}{altura ^ 2}$\n",
    "\n",
    "3. Dizem que um peso saudável é aquele que resulta num IMC entre 18,5 e 24,9. Mantendo-se a altura de 1,70 m, a que valores de peso correspondem esses limites?\n",
    "\n"
   ]
  },
  {
   "cell_type": "code",
   "execution_count": 61,
   "metadata": {
    "id": "_CCDg7y7Iosf"
   },
   "outputs": [],
   "source": [
    "altura = 1.7"
   ]
  },
  {
   "cell_type": "code",
   "execution_count": 62,
   "metadata": {
    "id": "8NZ1zfI0Isd1"
   },
   "outputs": [
    {
     "data": {
      "text/plain": [
       "24.221453287197235"
      ]
     },
     "execution_count": 62,
     "metadata": {},
     "output_type": "execute_result"
    }
   ],
   "source": [
    "imc = peso / (altura * altura)\n",
    "imc"
   ]
  },
  {
   "cell_type": "code",
   "execution_count": 63,
   "metadata": {
    "colab": {
     "base_uri": "https://localhost:8080/",
     "height": 170
    },
    "id": "68g3eQ53IyxT",
    "outputId": "46f937f3-3424-4ead-fdc1-6d6c5d46d8fa"
   },
   "outputs": [
    {
     "data": {
      "text/plain": [
       "53.464999999999996"
      ]
     },
     "execution_count": 63,
     "metadata": {},
     "output_type": "execute_result"
    }
   ],
   "source": [
    "18.5 * (altura * altura)"
   ]
  },
  {
   "cell_type": "code",
   "execution_count": 64,
   "metadata": {
    "id": "3bsgyMq1JDhH"
   },
   "outputs": [
    {
     "data": {
      "text/plain": [
       "71.96099999999998"
      ]
     },
     "execution_count": 64,
     "metadata": {},
     "output_type": "execute_result"
    }
   ],
   "source": [
    "24.9 * (altura * altura)"
   ]
  },
  {
   "cell_type": "markdown",
   "metadata": {},
   "source": [
    "Encapsulando em funções:"
   ]
  },
  {
   "cell_type": "code",
   "execution_count": 78,
   "metadata": {},
   "outputs": [
    {
     "data": {
      "text/plain": [
       "24.221453287197235"
      ]
     },
     "execution_count": 78,
     "metadata": {},
     "output_type": "execute_result"
    }
   ],
   "source": [
    "def imc_calc (peso: float, altura: float) -> float:\n",
    "    return peso / altura ** 2\n",
    "\n",
    "imc_calc(peso, altura)"
   ]
  },
  {
   "cell_type": "code",
   "execution_count": 81,
   "metadata": {},
   "outputs": [
    {
     "data": {
      "text/plain": [
       "(53.464999999999996, 71.96099999999998)"
      ]
     },
     "execution_count": 81,
     "metadata": {},
     "output_type": "execute_result"
    }
   ],
   "source": [
    "def peso_ideal(altura: float,\n",
    "               min_ideal: float = 18.5,\n",
    "               max_ideal: float = 24.9) -> float:\n",
    "    return (min_ideal * (altura**2), max_ideal * (altura**2))\n",
    "\n",
    "peso_ideal(altura)"
   ]
  },
  {
   "cell_type": "markdown",
   "metadata": {
    "id": "uMIG8X85E17t"
   },
   "source": [
    "# Strings e tipos sequenciais\n",
    "\n",
    "* Os dados que usamos até agora são de tipos numéricos.\n",
    "\n",
    "* \"peso\" é uma variável associada a um tipo chamado *integer* (inteiro), ao passo que \"altura\" é de tipo *float* (ponto flutuante).\n",
    "\n",
    "* A seguir, vamos usar um outro tipo de dados, que são as *strings* (cadeias de caracteres alfanuméricos). Os valores das strings devem ser delimitados por aspas (simples ou duplas)."
   ]
  },
  {
   "cell_type": "code",
   "execution_count": 82,
   "metadata": {
    "id": "Lm8_mJFRGAAk"
   },
   "outputs": [],
   "source": [
    "autor: str = 'Machado de Assis'"
   ]
  },
  {
   "cell_type": "markdown",
   "metadata": {
    "id": "8HhYWvOLVZ-h"
   },
   "source": [
    "As strings são sequências, isto é, objetos ordenados e indexados. \n",
    "\n",
    "Os índices são indicados entre colchetes, começando a partir do 0, que é o índice do primeiro item da sequência.\n",
    "\n",
    "Há, também, uma ordenação regressiva, começando por -1, correspondente ao último item da sequência."
   ]
  },
  {
   "cell_type": "code",
   "execution_count": 15,
   "metadata": {
    "id": "Y6aYhBQTVSE_"
   },
   "outputs": [
    {
     "data": {
      "text/plain": [
       "'M'"
      ]
     },
     "execution_count": 15,
     "metadata": {},
     "output_type": "execute_result"
    }
   ],
   "source": [
    "autor[0]"
   ]
  },
  {
   "cell_type": "code",
   "execution_count": 16,
   "metadata": {
    "id": "FcaueiuTVSCI"
   },
   "outputs": [
    {
     "data": {
      "text/plain": [
       "'c'"
      ]
     },
     "execution_count": 16,
     "metadata": {},
     "output_type": "execute_result"
    }
   ],
   "source": [
    "autor[2]"
   ]
  },
  {
   "cell_type": "code",
   "execution_count": 17,
   "metadata": {
    "id": "dllcp6h7VR_E"
   },
   "outputs": [
    {
     "data": {
      "text/plain": [
       "'s'"
      ]
     },
     "execution_count": 17,
     "metadata": {},
     "output_type": "execute_result"
    }
   ],
   "source": [
    "autor[-1]"
   ]
  },
  {
   "cell_type": "markdown",
   "metadata": {
    "id": "yONEEUOHWcMw"
   },
   "source": [
    "As sequências podem ser segmentadas, isto é, pode-se buscar uma subsequência dentro dela, no intervalo delimitado por dois índices separados por dois pontos (:). \n",
    "\n",
    "Note que o segmento é computado até a posição anterior ao segundo item indicado."
   ]
  },
  {
   "cell_type": "code",
   "execution_count": 18,
   "metadata": {
    "id": "PjQ3_FMDWMex"
   },
   "outputs": [
    {
     "data": {
      "text/plain": [
       "'cha'"
      ]
     },
     "execution_count": 18,
     "metadata": {},
     "output_type": "execute_result"
    }
   ],
   "source": [
    "autor[2:5]"
   ]
  },
  {
   "cell_type": "code",
   "execution_count": 19,
   "metadata": {
    "id": "QYEwK4iTVR8O"
   },
   "outputs": [
    {
     "data": {
      "text/plain": [
       "'Machado'"
      ]
     },
     "execution_count": 19,
     "metadata": {},
     "output_type": "execute_result"
    }
   ],
   "source": [
    "autor[:7]"
   ]
  },
  {
   "cell_type": "markdown",
   "metadata": {
    "id": "Tm-4ZQBaYhde"
   },
   "source": [
    "Os objetos têm certos métodos que lhes são associados, ou seja, funções que desempenham ações pré-definidas sobre esses objetos. Assim como as funções, os métodos são declarados seguidos de parênteses (que podem ficar vazios ou não).\n",
    "\n",
    "Eis aqui algumns métodos associados às strings:"
   ]
  },
  {
   "cell_type": "code",
   "execution_count": 20,
   "metadata": {
    "id": "HtLa_0eRVR5j"
   },
   "outputs": [
    {
     "data": {
      "text/plain": [
       "'MACHADO DE ASSIS'"
      ]
     },
     "execution_count": 20,
     "metadata": {},
     "output_type": "execute_result"
    }
   ],
   "source": [
    "autor.upper()"
   ]
  },
  {
   "cell_type": "code",
   "execution_count": 21,
   "metadata": {
    "id": "sSlBCJfwVR2y"
   },
   "outputs": [
    {
     "data": {
      "text/plain": [
       "'machado de assis'"
      ]
     },
     "execution_count": 21,
     "metadata": {},
     "output_type": "execute_result"
    }
   ],
   "source": [
    "autor.lower()"
   ]
  },
  {
   "cell_type": "code",
   "execution_count": 22,
   "metadata": {
    "id": "ZAgJEFcgZb0y"
   },
   "outputs": [
    {
     "data": {
      "text/plain": [
       "False"
      ]
     },
     "execution_count": 22,
     "metadata": {},
     "output_type": "execute_result"
    }
   ],
   "source": [
    "autor.isalpha()  # Verica se o objeto só contém caracteres alfabéticos"
   ]
  },
  {
   "cell_type": "markdown",
   "metadata": {
    "id": "XEVCn7WlZvL_"
   },
   "source": [
    "# Listas\n",
    "\n",
    "As listas são um tipo de dados composto, quer dizer, que contém outros tipos de dados (como strings ou inteiros). \n",
    "\n",
    "São também sequências, como as strings.\n",
    "\n",
    "Os delimitadores das listas são os colchetes: []."
   ]
  },
  {
   "cell_type": "code",
   "execution_count": 23,
   "metadata": {
    "id": "IS2ZStoEZ9BV"
   },
   "outputs": [],
   "source": [
    "primos: list = [2, 3, 5, 7, 11, 13, 17]"
   ]
  },
  {
   "cell_type": "code",
   "execution_count": 24,
   "metadata": {
    "id": "HqaNC6c_aKqr"
   },
   "outputs": [],
   "source": [
    "mutantes: list = ['Rita Lee', 'Arnaldo Baptista', 'Sérgio Dias']"
   ]
  },
  {
   "cell_type": "code",
   "execution_count": 25,
   "metadata": {
    "id": "3z7AQX5raQPh"
   },
   "outputs": [
    {
     "data": {
      "text/plain": [
       "2"
      ]
     },
     "execution_count": 25,
     "metadata": {},
     "output_type": "execute_result"
    }
   ],
   "source": [
    "primos[0]"
   ]
  },
  {
   "cell_type": "code",
   "execution_count": 26,
   "metadata": {
    "id": "9xbuT0rTaTOA"
   },
   "outputs": [
    {
     "data": {
      "text/plain": [
       "'Sérgio Dias'"
      ]
     },
     "execution_count": 26,
     "metadata": {},
     "output_type": "execute_result"
    }
   ],
   "source": [
    "mutantes[-1]"
   ]
  },
  {
   "cell_type": "markdown",
   "metadata": {
    "id": "JppaZR7gattP"
   },
   "source": [
    "É possível contar o número de itens das strings e das listas com a função len()."
   ]
  },
  {
   "cell_type": "code",
   "execution_count": 27,
   "metadata": {
    "id": "wQobgj-qaeRi"
   },
   "outputs": [
    {
     "name": "stdout",
     "output_type": "stream",
     "text": [
      "16\n",
      "3\n"
     ]
    }
   ],
   "source": [
    "print(len(autor))\n",
    "print(len(mutantes))"
   ]
  },
  {
   "cell_type": "markdown",
   "metadata": {
    "id": "zrNaknCga7_T"
   },
   "source": [
    "As strings são objetos imutáveis. Uma vez definidas, não podem ser alteradas.\n",
    "\n",
    "Já as listas podem ser modificadas, ou seja, novos itens podem ser acrescentados (método append()) ou itens já existentes podem ser excluídos (comando del[índice])."
   ]
  },
  {
   "cell_type": "code",
   "execution_count": 28,
   "metadata": {
    "id": "OLbM_NXHbq9m"
   },
   "outputs": [
    {
     "data": {
      "text/plain": [
       "[2, 3, 5, 7, 11, 13, 17, 19]"
      ]
     },
     "execution_count": 28,
     "metadata": {},
     "output_type": "execute_result"
    }
   ],
   "source": [
    "primos.append(19)\n",
    "primos"
   ]
  },
  {
   "cell_type": "code",
   "execution_count": 29,
   "metadata": {
    "id": "BJc1L959byea"
   },
   "outputs": [
    {
     "data": {
      "text/plain": [
       "[3, 5, 7, 11, 13, 17, 19]"
      ]
     },
     "execution_count": 29,
     "metadata": {},
     "output_type": "execute_result"
    }
   ],
   "source": [
    "del primos[0]\n",
    "primos"
   ]
  },
  {
   "cell_type": "markdown",
   "metadata": {
    "id": "3szAfY6PcFBx"
   },
   "source": [
    "Uma lista pode ser convertida em string (método join()) e vice-versa (método split())."
   ]
  },
  {
   "cell_type": "code",
   "execution_count": 30,
   "metadata": {
    "id": "3aRRgR4scQ5l"
   },
   "outputs": [
    {
     "data": {
      "text/plain": [
       "['Machado', 'de', 'Assis']"
      ]
     },
     "execution_count": 30,
     "metadata": {},
     "output_type": "execute_result"
    }
   ],
   "source": [
    "autor.split()"
   ]
  },
  {
   "cell_type": "code",
   "execution_count": 31,
   "metadata": {
    "id": "YJeJyCkscWOr"
   },
   "outputs": [
    {
     "data": {
      "text/plain": [
       "'Rita Lee Arnaldo Baptista Sérgio Dias'"
      ]
     },
     "execution_count": 31,
     "metadata": {},
     "output_type": "execute_result"
    }
   ],
   "source": [
    "' '.join(mutantes)"
   ]
  },
  {
   "cell_type": "markdown",
   "metadata": {
    "id": "oWH-4yJwco29"
   },
   "source": [
    "# Conjuntos\n",
    "\n",
    "Os conjuntos são tipos de dados não ordenados e *sem repetição*.\n",
    "\n",
    "São muito úteis para encontrar repetições em listas ou strings, por exemplo.\n",
    "\n",
    "Os delimitadores dos conjuntos são as chaves: {}."
   ]
  },
  {
   "cell_type": "code",
   "execution_count": 32,
   "metadata": {
    "id": "19uM69ZBcn9B"
   },
   "outputs": [
    {
     "data": {
      "text/plain": [
       "{' ', 'A', 'M', 'a', 'c', 'd', 'e', 'h', 'i', 'o', 's'}"
      ]
     },
     "execution_count": 32,
     "metadata": {},
     "output_type": "execute_result"
    }
   ],
   "source": [
    "set(autor)"
   ]
  },
  {
   "cell_type": "markdown",
   "metadata": {
    "id": "2p6CM7Ceq_eb"
   },
   "source": [
    "# Exercício\n",
    "\n",
    "No processamento linguístico, os conjuntos são muito usados para estabelecer o *vocabulário* de um texto (as palavras únicas, sem repetição).\n",
    "\n",
    "Qual é o vocabulário do texto a seguir? \n",
    "\n",
    "Dica: divida a string em lista antes de filtrar as palavras duplicadas."
   ]
  },
  {
   "cell_type": "code",
   "execution_count": 33,
   "metadata": {
    "id": "lcw52YUerShd"
   },
   "outputs": [],
   "source": [
    "texto: str = 'Hoje é dia 18 de agosto de 2021'"
   ]
  },
  {
   "cell_type": "code",
   "execution_count": 41,
   "metadata": {},
   "outputs": [
    {
     "data": {
      "text/plain": [
       "{'18', '2021', 'Hoje', 'agosto', 'de', 'dia', 'é'}"
      ]
     },
     "execution_count": 41,
     "metadata": {},
     "output_type": "execute_result"
    }
   ],
   "source": [
    "set(texto.split())"
   ]
  },
  {
   "cell_type": "markdown",
   "metadata": {
    "id": "TrM5PKlWr9K_"
   },
   "source": [
    "# Tuplas\n",
    "\n",
    "Assim como as listas, as tuplas são estruturas de dados sequenciais que podem conter outros tipos de dados, mas são imutáveis, como as strings. Em geral, servem para agrupar itens funcionalemente relacionados. \n",
    "\n",
    "Uma analogia útil das tuplas são os pares ordenados na matemática, frequentemente usados para represetar o domínio e a imagem de uma função.\n",
    "\n",
    "Os delimitadores das tuplas são os parênteses."
   ]
  },
  {
   "cell_type": "code",
   "execution_count": 34,
   "metadata": {
    "id": "Hvxf9UmLtg1D"
   },
   "outputs": [
    {
     "data": {
      "text/plain": [
       "1"
      ]
     },
     "execution_count": 34,
     "metadata": {},
     "output_type": "execute_result"
    }
   ],
   "source": [
    "tupla: tuple = (1, 2)\n",
    "tupla[0]"
   ]
  },
  {
   "cell_type": "code",
   "execution_count": 35,
   "metadata": {
    "id": "uAVjfJRBtzEu"
   },
   "outputs": [],
   "source": [
    "# Lista de tuplas\n",
    "\n",
    "funcao_quadratica = [(0, 0), (1, 1), (2, 4), (3, 8), (4, 16)]"
   ]
  },
  {
   "cell_type": "markdown",
   "metadata": {
    "id": "Ph91710zuWF4"
   },
   "source": [
    "# Exercício \n",
    "\n",
    "Como você faria para retornar o número 3 (e só ele) da lista funcao_quadratica?"
   ]
  },
  {
   "cell_type": "code",
   "execution_count": 83,
   "metadata": {
    "id": "DnCV4egYu4xr"
   },
   "outputs": [
    {
     "data": {
      "text/plain": [
       "3"
      ]
     },
     "execution_count": 83,
     "metadata": {},
     "output_type": "execute_result"
    }
   ],
   "source": [
    "funcao_quadratica[3][0]"
   ]
  },
  {
   "cell_type": "markdown",
   "metadata": {
    "id": "nhdn2vXPvT8Q"
   },
   "source": [
    "# Dicionários\n",
    "\n",
    "Os dicionários são estruturas de mapeamento de dados. \n",
    "\n",
    "Um item do dicionário é uma associação entre uma *chave* e um *valor* correspondente. \n",
    "\n",
    "As chaves devem ser construídas com tipos de dados imutáveis: strings, números ou tuplas (desde que as tuplas não contenham tipos mutáveis). \n",
    "\n",
    "Já os valores podem ser estruturas de qualquer tipo.\n",
    "\n",
    "Os dicionários não são como as sequências, que são indexadas por números. Os dicionários são indexados pelas chaves. Por isso, as chaves devem ser únicas.\n",
    "\n",
    "A sintaxe de declaração dos dicionários é:\n",
    "\n",
    "{chave1: valor1, chave2: valor2}"
   ]
  },
  {
   "cell_type": "code",
   "execution_count": 37,
   "metadata": {
    "id": "UUEE0-Zzw0gk"
   },
   "outputs": [
    {
     "name": "stdout",
     "output_type": "stream",
     "text": [
      "{'Sul': ['RS', 'SC', 'PR'], 'Sudeste': ['SP', 'RJ', 'MG', 'ES']}\n",
      "['SP', 'RJ', 'MG', 'ES']\n"
     ]
    }
   ],
   "source": [
    "uf_por_regiao: dict = {'Sul': ['RS', 'SC', 'PR'], 'Sudeste': ['SP', 'RJ', 'MG', 'ES']}\n",
    "\n",
    "print(uf_por_regiao)\n",
    "print(uf_por_regiao['Sudeste'])"
   ]
  },
  {
   "cell_type": "code",
   "execution_count": 38,
   "metadata": {
    "id": "VbxrdCF21c0N"
   },
   "outputs": [
    {
     "name": "stdout",
     "output_type": "stream",
     "text": [
      "dict_items([('Sul', ['RS', 'SC', 'PR']), ('Sudeste', ['SP', 'RJ', 'MG', 'ES'])])\n",
      "dict_keys(['Sul', 'Sudeste'])\n",
      "dict_values([['RS', 'SC', 'PR'], ['SP', 'RJ', 'MG', 'ES']])\n"
     ]
    }
   ],
   "source": [
    "# Métodos de visualização\n",
    "\n",
    "print(uf_por_regiao.items())\n",
    "print(uf_por_regiao.keys())\n",
    "print(uf_por_regiao.values())"
   ]
  },
  {
   "cell_type": "code",
   "execution_count": 39,
   "metadata": {
    "id": "YnUk3WCd4kjJ"
   },
   "outputs": [
    {
     "name": "stdout",
     "output_type": "stream",
     "text": [
      "{'Sul': ['RS', 'SC', 'PR'], 'Sudeste': ['SP', 'RJ', 'MG', 'ES'], 'Centro-Oeste': ['GO', 'DF', 'MS', 'MT']}\n"
     ]
    }
   ],
   "source": [
    "# Para acrescentar itens a um dicionário existente\n",
    "\n",
    "uf_por_regiao['Centro-Oeste'] = ['GO', 'DF', 'MS', 'MT']\n",
    "\n",
    "print(uf_por_regiao)"
   ]
  },
  {
   "cell_type": "markdown",
   "metadata": {
    "id": "XqqSWEVB10Wz"
   },
   "source": [
    "# Exercícios\n",
    "\n",
    "Usando o dicionário uf_por_regiao:\n",
    "\n",
    "1. Faça-o retornar o valor 'MG'.\n",
    "2. Complete o dicionário com as regiões do Brasil faltantes."
   ]
  },
  {
   "cell_type": "code",
   "execution_count": 44,
   "metadata": {},
   "outputs": [
    {
     "name": "stdout",
     "output_type": "stream",
     "text": [
      "MG\n"
     ]
    }
   ],
   "source": [
    "print(uf_por_regiao['Sudeste'][2])"
   ]
  },
  {
   "cell_type": "code",
   "execution_count": 54,
   "metadata": {},
   "outputs": [],
   "source": [
    "uf_por_regiao['Norte'] = ['AM', 'AP', 'RO', 'RR',\n",
    "                          'PA', 'AC', 'TO']"
   ]
  },
  {
   "cell_type": "code",
   "execution_count": 55,
   "metadata": {},
   "outputs": [],
   "source": [
    "uf_por_regiao['Nordeste'] = ['BA', 'PE', 'MA', 'PI', 'CE',\n",
    "                             'RN', 'PB', 'SE', 'AL']"
   ]
  },
  {
   "cell_type": "code",
   "execution_count": 56,
   "metadata": {
    "scrolled": true
   },
   "outputs": [
    {
     "data": {
      "text/plain": [
       "{'Sul': ['RS', 'SC', 'PR'],\n",
       " 'Sudeste': ['SP', 'RJ', 'MG', 'ES'],\n",
       " 'Centro-Oeste': ['GO', 'DF', 'MS', 'MT'],\n",
       " 'Norte': ['AM', 'AP', 'RO', 'RR', 'PA', 'AC', 'TO'],\n",
       " 'Nordeste': ['BA', 'PE', 'MA', 'PI', 'CE', 'RN', 'PB', 'SE', 'AL']}"
      ]
     },
     "execution_count": 56,
     "metadata": {},
     "output_type": "execute_result"
    }
   ],
   "source": [
    "uf_por_regiao"
   ]
  }
 ],
 "metadata": {
  "colab": {
   "collapsed_sections": [],
   "name": "LC - Pós - Python 1.ipynb",
   "provenance": []
  },
  "kernelspec": {
   "display_name": "Python 3 (ipykernel)",
   "language": "python",
   "name": "python3"
  },
  "language_info": {
   "codemirror_mode": {
    "name": "ipython",
    "version": 3
   },
   "file_extension": ".py",
   "mimetype": "text/x-python",
   "name": "python",
   "nbconvert_exporter": "python",
   "pygments_lexer": "ipython3",
   "version": "3.9.6"
  }
 },
 "nbformat": 4,
 "nbformat_minor": 1
}
