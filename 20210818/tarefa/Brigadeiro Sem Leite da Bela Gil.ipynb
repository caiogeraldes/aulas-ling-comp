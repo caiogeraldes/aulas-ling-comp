{
 "cells": [
  {
   "cell_type": "markdown",
   "id": "6b1f304f",
   "metadata": {},
   "source": [
    "# TAREFA: Brigadeiro Sem Leite da Bela Gil\n",
    "\n",
    "Para esta tarefa, você vai usar a lista de ingredientes do Brigadeiro Sem Leite da Bela Gil, que está neste link: https://belagil.com/conteudo/receitas/brigadeiro-sem-leite-da-bela-gil/\n",
    "\n",
    "Com a lista de ingredientes, você deve:\n",
    "\n",
    "1. Criar um dicionário cujas chaves sejam os ingredientes (ex.: açúcar mascavo) e os valores sejam uma tupla contendo a medida (ex. colher (chá)) e as respectivas quantidades (ex.: 1).\n",
    "\n",
    "2. Feito o dicionário, imprima com base nele a lista completa de ingredientes no mesmo formato que você vê no site da Bela Gil (ex.: 3 colheres (sopa) de cacau em pó). Dica: os ingredientes não precisam aparecer na mesma ordem que está no site.\n",
    "\n",
    "3. Mostre a quantidade de cacau em pó usada na receita.\n",
    "\n",
    "4. Você não tem a impressão de quem açúcar demais ali? Diminua a quantidade de açúcar pela metade.\n",
    "\n",
    "5. Acrescente o licor de sua preferência à lista de ingredientes.\n",
    "\n",
    "6. O que acontece se você procurar no dicionário por um ingrediente inexistente (ex.: leite condensado)?"
   ]
  },
  {
   "cell_type": "markdown",
   "id": "d4a1e714",
   "metadata": {},
   "source": [
    "*Ingredientes:*\n",
    "\n",
    "- biomassa de 2 bananas verdes\n",
    "- 5 colheres (sopa) de açúcar mascavo\n",
    "- 3 colheres (sopa) de cacau em pó\n",
    "- 1 colher (chá) de manteiga ghee\n",
    "- 5 gotas de essência de baunilha"
   ]
  },
  {
   "cell_type": "markdown",
   "id": "b0acc1e3",
   "metadata": {},
   "source": [
    "### 1  Criar um dicionário cujas chaves sejam os ingredientes (ex.: açúcar mascavo) e os valores sejam uma tupla contendo a medida (ex. colher (chá)) e as respectivas quantidades (ex.: 1).\n",
    "\n",
    "A medida de biomassa não é exatamente `2 bananas verdes`, de modo que a o resultado aqui é pragmaticamente *estranho*. A outra opção seria utilizar como unidade `biomassa`, o que não diminuiria a estranheza em 2 de imprimir \"2 biomassa de banana verde\"."
   ]
  },
  {
   "cell_type": "code",
   "execution_count": 1,
   "id": "d512b4d8",
   "metadata": {},
   "outputs": [
    {
     "data": {
      "text/plain": [
       "{'biomassa': ('banana verde', 2),\n",
       " 'açúcar mascavo': ('colher (sopa)', 5),\n",
       " 'cacau em pó': ('colher (sopa)', 3),\n",
       " 'manteiga ghee': ('colher (chá)', 1),\n",
       " 'essência de baunilha': ('gotas', 5)}"
      ]
     },
     "execution_count": 1,
     "metadata": {},
     "output_type": "execute_result"
    }
   ],
   "source": [
    "ingredientes = { \"biomassa\": (\"banana verde\", 2),\n",
    "        \"açúcar mascavo\": (\"colher (sopa)\", 5),\n",
    "        \"cacau em pó\": (\"colher (sopa)\", 3),\n",
    "        \"manteiga ghee\": (\"colher (chá)\", 1),\n",
    "        \"essência de baunilha\": (\"gotas\", 5)\n",
    "        }\n",
    "ingredientes"
   ]
  },
  {
   "cell_type": "markdown",
   "id": "84090eb4",
   "metadata": {},
   "source": [
    "### 2 Feito o dicionário, imprima com base nele a lista completa de ingredientes no mesmo formato que você vê no site da Bela Gil (ex.: 3 colheres (sopa) de cacau em pó). Dica: os ingredientes não precisam aparecer na mesma ordem que está no site.\n",
    "\n",
    "Para economizar linhas e tornar o código mais genérico (permitindo qualquer número de ingredientes), utilizei um `for-loop` embora ainda não tenha sido ensinado."
   ]
  },
  {
   "cell_type": "code",
   "execution_count": 2,
   "id": "f448c457",
   "metadata": {},
   "outputs": [
    {
     "name": "stdout",
     "output_type": "stream",
     "text": [
      "2 banana verde de biomassa\n",
      "5 colher (sopa) de açúcar mascavo\n",
      "3 colher (sopa) de cacau em pó\n",
      "1 colher (chá) de manteiga ghee\n",
      "5 gotas de essência de baunilha\n"
     ]
    }
   ],
   "source": [
    "for nome in ingredientes.keys():\n",
    "    print(ingredientes[nome][1], ingredientes[nome][0], \"de\", nome)"
   ]
  },
  {
   "cell_type": "markdown",
   "id": "6e3ff66e",
   "metadata": {},
   "source": [
    "### 3 Mostre a quantidade de cacau em pó usada na receita."
   ]
  },
  {
   "cell_type": "code",
   "execution_count": 3,
   "id": "2b69daae",
   "metadata": {},
   "outputs": [
    {
     "name": "stdout",
     "output_type": "stream",
     "text": [
      "Quantidade de cacau em pó em colher (sopa) :\n",
      "3\n"
     ]
    }
   ],
   "source": [
    "print(\"Quantidade de cacau em pó em\", ingredientes[\"cacau em pó\"][0], \":\")\n",
    "print(ingredientes[\"cacau em pó\"][1])"
   ]
  },
  {
   "cell_type": "markdown",
   "id": "d6efb6c6",
   "metadata": {},
   "source": [
    "### 4 Você não tem a impressão de quem açúcar demais ali? Diminua a quantidade de açúcar pela metade."
   ]
  },
  {
   "cell_type": "code",
   "execution_count": 4,
   "id": "4fb78455",
   "metadata": {},
   "outputs": [
    {
     "name": "stdout",
     "output_type": "stream",
     "text": [
      "açúcar mascavo: ('colher (sopa)', 2.5)\n"
     ]
    }
   ],
   "source": [
    "ingredientes[\"açúcar mascavo\"] = (ingredientes[\"açúcar mascavo\"][0],\n",
    "        ingredientes[\"açúcar mascavo\"][1] / 2)\n",
    "print('açúcar mascavo:', ingredientes[\"açúcar mascavo\"])"
   ]
  },
  {
   "cell_type": "markdown",
   "id": "9801a769",
   "metadata": {},
   "source": [
    "### 5 Acrescente o licor de sua preferência à lista de ingredientes."
   ]
  },
  {
   "cell_type": "code",
   "execution_count": 5,
   "id": "11c2acef",
   "metadata": {},
   "outputs": [
    {
     "data": {
      "text/plain": [
       "{'biomassa': ('banana verde', 2),\n",
       " 'açúcar mascavo': ('colher (sopa)', 2.5),\n",
       " 'cacau em pó': ('colher (sopa)', 3),\n",
       " 'manteiga ghee': ('colher (chá)', 1),\n",
       " 'essência de baunilha': ('gotas', 5),\n",
       " 'licor de laranja': ('ml', 10)}"
      ]
     },
     "execution_count": 5,
     "metadata": {},
     "output_type": "execute_result"
    }
   ],
   "source": [
    "ingredientes[\"licor de laranja\"] = (\"ml\", 10)\n",
    "ingredientes"
   ]
  },
  {
   "cell_type": "markdown",
   "id": "a9706aef",
   "metadata": {},
   "source": [
    "### 6 O que acontece se você procurar no dicionário por um ingrediente inexistente (ex.: leite condensado)?\n",
    "\n",
    "Um erro da classe `KeyError` é levantado."
   ]
  },
  {
   "cell_type": "code",
   "execution_count": 6,
   "id": "75a283e7",
   "metadata": {},
   "outputs": [
    {
     "ename": "KeyError",
     "evalue": "'leite condençado'",
     "output_type": "error",
     "traceback": [
      "\u001b[0;31m---------------------------------------------------------------------------\u001b[0m",
      "\u001b[0;31mKeyError\u001b[0m                                  Traceback (most recent call last)",
      "\u001b[0;32m/tmp/ipykernel_4771/1990628442.py\u001b[0m in \u001b[0;36m<module>\u001b[0;34m\u001b[0m\n\u001b[0;32m----> 1\u001b[0;31m \u001b[0mingredientes\u001b[0m\u001b[0;34m[\u001b[0m\u001b[0;34m\"leite condençado\"\u001b[0m\u001b[0;34m]\u001b[0m\u001b[0;34m\u001b[0m\u001b[0;34m\u001b[0m\u001b[0m\n\u001b[0m",
      "\u001b[0;31mKeyError\u001b[0m: 'leite condençado'"
     ]
    }
   ],
   "source": [
    "ingredientes[\"leite condençado\"]"
   ]
  }
 ],
 "metadata": {
  "kernelspec": {
   "display_name": "Python 3 (ipykernel)",
   "language": "python",
   "name": "python3"
  },
  "language_info": {
   "codemirror_mode": {
    "name": "ipython",
    "version": 3
   },
   "file_extension": ".py",
   "mimetype": "text/x-python",
   "name": "python",
   "nbconvert_exporter": "python",
   "pygments_lexer": "ipython3",
   "version": "3.9.6"
  }
 },
 "nbformat": 4,
 "nbformat_minor": 5
}
