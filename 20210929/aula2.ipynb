{
  "nbformat": 4,
  "nbformat_minor": 0,
  "metadata": {
    "colab": {
      "name": "Exercícios - Corpus 2.ipynb",
      "provenance": []
    },
    "kernelspec": {
      "name": "python3",
      "display_name": "Python 3"
    },
    "language_info": {
      "name": "python"
    }
  },
  "cells": [
    {
      "cell_type": "markdown",
      "metadata": {
        "id": "M5eGsvL_3ajA"
      },
      "source": [
        "# Exercícios\n",
        "\n",
        "Crie funções para solucionar os exercícios abaixo. Só valem respostas usando funções, ok?"
      ]
    },
    {
      "cell_type": "code",
      "metadata": {
        "id": "d8nzjezG13CY"
      },
      "source": [
        "# 1. Abra o texto \"O Guarani\""
      ],
      "execution_count": null,
      "outputs": []
    },
    {
      "cell_type": "code",
      "metadata": {
        "id": "S6vW24hn2H5a"
      },
      "source": [
        "# 2. Tokenize o texto em sentenças (com o NLTK)"
      ],
      "execution_count": null,
      "outputs": []
    },
    {
      "cell_type": "code",
      "metadata": {
        "id": "oOy0mwKf2Qpq"
      },
      "source": [
        "# 3. Tokenize o texto em palavras (com o NLTK)"
      ],
      "execution_count": null,
      "outputs": []
    },
    {
      "cell_type": "code",
      "metadata": {
        "id": "j8-Ysb5C2Vt3"
      },
      "source": [
        "# 4. Limpe o texto de caracteres não-alfanuméricos"
      ],
      "execution_count": null,
      "outputs": []
    },
    {
      "cell_type": "code",
      "metadata": {
        "id": "VuXBvQdF2VrU"
      },
      "source": [
        "# 5. Gere uma versão do texto sem stopwords"
      ],
      "execution_count": null,
      "outputs": []
    },
    {
      "cell_type": "markdown",
      "metadata": {
        "id": "305Jbocn_-Nw"
      },
      "source": [
        "**Bônus: Geração de nuvens de palavras**"
      ]
    },
    {
      "cell_type": "code",
      "metadata": {
        "id": "nhcormHt_08e"
      },
      "source": [
        "# Nomeie a sua lista de stopwords de \"stops\"\n",
        "# A variável \"texto\" é uma string do texto todo\n",
        "\n",
        "import matplotlib.pyplot as plt\n",
        "from wordcloud import WordCloud\n",
        "\n",
        "nuvem = WordCloud(stopwords=stops,\n",
        "                    background_color='black',\n",
        "                    width=1600, height=800).generate(texto)\n",
        " \n",
        "fig, ax = plt.subplots(figsize=(10,6))\n",
        "ax.imshow(nuvem, interpolation='bilinear')\n",
        "ax.set_axis_off()\n",
        "plt.imshow(nuvem);"
      ],
      "execution_count": null,
      "outputs": []
    },
    {
      "cell_type": "code",
      "metadata": {
        "id": "-dRiJLsO2VoZ"
      },
      "source": [
        "# 6. Crie um dicionário de contagens de ocorrências sem as stopwords"
      ],
      "execution_count": null,
      "outputs": []
    },
    {
      "cell_type": "code",
      "metadata": {
        "id": "gmK9Hd9a2Vln"
      },
      "source": [
        "# 7. Mostre as 100 palavras mais frequentes (sem as stopwords) ordenadas por ocorrências"
      ],
      "execution_count": null,
      "outputs": []
    },
    {
      "cell_type": "code",
      "metadata": {
        "id": "KAWhCl222Vi4"
      },
      "source": [
        "# 8. Mostre 100 hápax legômena do texto"
      ],
      "execution_count": null,
      "outputs": []
    },
    {
      "cell_type": "code",
      "metadata": {
        "id": "f3seDH1n2VgP"
      },
      "source": [
        "# 9. Crie uma lista a partir desse vocabulário excluindo:\n",
        "#    (a) os hápax legômena e \n",
        "#    (b) a informação sobre o número de ocorrências"
      ],
      "execution_count": null,
      "outputs": []
    },
    {
      "cell_type": "markdown",
      "metadata": {
        "id": "oTLCqtiZ5BwF"
      },
      "source": [
        "# Tarefa\n",
        "\n",
        "1. Crie uma nova lista a partir dessa última, do exercício #9, contendo somente as raízes das palavras.\n",
       "\n",
        "2. Quantos são os itens dessa lista?\n",
        "\n",
        "3. Mostre os 50 itens no intervalo entre as posições 1000 e 1049. "
      ]
    }
  ]
} 
