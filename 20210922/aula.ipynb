{
  "nbformat": 4,
  "nbformat_minor": 0,
  "metadata": {
    "colab": {
      "name": "LC - Pós - Python - Exercícios de Reforço.ipynb",
      "provenance": [],
      "collapsed_sections": []
    },
    "kernelspec": {
      "name": "python3",
      "display_name": "Python 3"
    },
    "language_info": {
      "name": "python"
    }
  },
  "cells": [
    {
      "cell_type": "code",
      "metadata": {
        "id": "q35J0b5LHgl4"
      },
      "source": [
        "# 1. Associe seu nome completo a uma variável chamada \"nome\"."
      ],
      "execution_count": null,
      "outputs": []
    },
    {
      "cell_type": "code",
      "metadata": {
        "id": "ue_EWuqdMmPR"
      },
      "source": [
        "# 2. Converta o seu nome completo para letras maiúsculas."
      ],
      "execution_count": null,
      "outputs": []
    },
    {
      "cell_type": "code",
      "metadata": {
        "id": "Aj6ld_wFHqx0"
      },
      "source": [
        "# 3. Quantas letras tem o seu nome completo?"
      ],
      "execution_count": null,
      "outputs": []
    },
    {
      "cell_type": "code",
      "metadata": {
        "id": "FMLB9Mx9Hqu3"
      },
      "source": [
        "# 4. Qual o seu primeiro nome?"
      ],
      "execution_count": null,
      "outputs": []
    },
    {
      "cell_type": "code",
      "metadata": {
        "id": "JtxMCT6GHqsh"
      },
      "source": [
        "# 5. Qual o seu (último) sobrenome?"
      ],
      "execution_count": null,
      "outputs": []
    },
    {
      "cell_type": "code",
      "metadata": {
        "id": "nQC-e8HRHqp5"
      },
      "source": [
        "# 6. Qual a terceira letra do seu nome? "
      ],
      "execution_count": null,
      "outputs": []
    },
    {
      "cell_type": "code",
      "metadata": {
        "id": "KGGWhVleHqm9"
      },
      "source": [
        "# 7. Quantas letras tem o seu sobrenome?"
      ],
      "execution_count": null,
      "outputs": []
    },
    {
      "cell_type": "code",
      "metadata": {
        "id": "-MfNQH1eHqkP"
      },
      "source": [
        "# 8. Se o seu sobrenome tiver mais letras que o seu primeiro nome, escreva \"O sobrenome é maior\"; do contrário, \"O primeiro nome é maior\"."
      ],
      "execution_count": null,
      "outputs": []
    },
    {
      "cell_type": "code",
      "metadata": {
        "id": "yzQp5Pm3Hqh3"
      },
      "source": [
        "# 9. Escreva o seu nome na tela 100 vezes."
      ],
      "execution_count": null,
      "outputs": []
    },
    {
      "cell_type": "code",
      "metadata": {
        "id": "f-OSVmJwHqfQ"
      },
      "source": [
        "# 10. Mostre na tela somente as \"palavras\" de seu nome completo que tenham a letra \"a\"."
      ],
      "execution_count": null,
      "outputs": []
    },
    {
      "cell_type": "code",
      "metadata": {
        "id": "U1nbdOWSHqcn"
      },
      "source": [
        "# 11. Mostre somente as palavras de seu nome completo que tenham as letras \"e\" e \"r\" (em qualquer ordem)."
      ],
      "execution_count": null,
      "outputs": []
    },
    {
      "cell_type": "code",
      "metadata": {
        "id": "WCWu9NanHqaU"
      },
      "source": [
        "# 12. Mostre a contagem de ocorrências das letras de seu nome completo."
      ],
      "execution_count": null,
      "outputs": []
    },
    {
      "cell_type": "code",
      "metadata": {
        "colab": {
          "base_uri": "https://localhost:8080/",
          "height": 35
        },
        "id": "XNqqiVkkHqXn",
        "outputId": "66a52c05-10f7-4e2c-a874-ec3e74d50ba5"
      },
      "source": [
        "# 13. O Python tem uma função interna chr() que mapeia um número do código ASCII no caracter correspondente. \n",
        "# Por ex:\n",
        "chr(65)"
      ],
      "execution_count": null,
      "outputs": [
        {
          "output_type": "execute_result",
          "data": {
            "application/vnd.google.colaboratory.intrinsic+json": {
              "type": "string"
            },
            "text/plain": [
              "'A'"
            ]
          },
          "metadata": {},
          "execution_count": 4
        }
      ]
    },
    {
      "cell_type": "code",
      "metadata": {
        "id": "YhI9cEA7HqVL"
      },
      "source": [
        "# As letras maiúsculas do alfabeto \"americano\" estão entre os números 65 (A) e 91 (Z).\n",
        "# 14. Construa uma lista com o alfabeto completo usando compreensão de lista."
      ],
      "execution_count": null,
      "outputs": []
    },
    {
      "cell_type": "code",
      "metadata": {
        "colab": {
          "base_uri": "https://localhost:8080/"
        },
        "id": "oyqC27QoHqSU",
        "outputId": "bbb0fa32-1841-4c2a-f119-b592037b9d27"
      },
      "source": [
        "# A função inversa a chr() é ord(), que recebe um caractere e retorna o código ASCII correspondente.\n",
        "# Ex.:\n",
        "ord('C')"
      ],
      "execution_count": null,
      "outputs": [
        {
          "output_type": "execute_result",
          "data": {
            "text/plain": [
              "67"
            ]
          },
          "metadata": {},
          "execution_count": 7
        }
      ]
    },
    {
      "cell_type": "code",
      "metadata": {
        "id": "xjekdzXPHqPh"
      },
      "source": [
        "# 15. Crie uma função que receba um (primeiro) nome e retorne uma lista dos caracteres ASCII correspondentes a cada letra."
      ],
      "execution_count": null,
      "outputs": []
    },
    {
      "cell_type": "markdown",
      "metadata": {
        "id": "rtv2an41blGw"
      },
      "source": [
        "# Exercício extra: Código Morse\n",
        "\n",
        "Use o alfabeto morse abaixo para criar uma função morse() que receba uma string e retorne o texto correspondente com os símbolos desse alfabeto."
      ]
    },
    {
      "cell_type": "code",
      "metadata": {
        "id": "Ns3c58ZkbovS"
      },
      "source": [
        "alfabeto_morse = {\n",
        "    \"A\": \"· –\",\n",
        "    \"B\": \"– · · ·\",\n",
        "    \"C\": \"– · – ·\",\n",
        "    \"D\": \"– · ·\",\n",
        "    \"E\": \"·\",\n",
        "    \"F\": \"· · – ·\",\n",
        "    \"G\": \"– – ·\",\n",
        "    \"H\": \"· · · ·\",\n",
        "    \"I\": \"· ·\",\n",
        "    \"J\": \"·– – –\",\n",
        "    \"K\": \"– · –\",\n",
        "    \"L\": \"· – · ·\",\n",
        "    \"M\": \"– –\",\n",
        "    \"N\": \"– ·\",\n",
        "    \"O\": \"– – –\",\n",
        "    \"P\": \"· – – ·\",\n",
        "    \"Q\": \"– – · –\",\n",
        "    \"R\": \"· – ·\",\n",
        "    \"S\": \"· · ·\",\n",
        "    \"T\": \"–\",\n",
        "    \"U\": \"· · –\",\n",
        "    \"V\": \"· · · –\",\n",
        "    \"W\": \"· – –\",\n",
        "    \"X\": \"– · · –\",\n",
        "    \"Y\": \"– · – –\",\n",
        "    \"Z\": \"– – · ·\",\n",
        "    \" \": \" \" * 7,\n",
        "}"
      ],
      "execution_count": null,
      "outputs": []
    },
    {
      "cell_type": "markdown",
      "metadata": {
        "id": "QDT2zc67VCkX"
      },
      "source": [
        "# Exercício em casa: Numerologia\n",
        "\n",
        "É claro que você não se aguenta mais de curiosidade para conhecer o seu número pessoal através da Numerologia. Quem suporta viver sem saber esse número??\n",
        "\n",
        "O cálculo é simples:\n",
        "\n",
        "1. Cada letra do seu nome completo corresponde a um número de 1 a 9.\n",
        "\n",
        "2. Dessa forma, o \"A\" vale 1 e o \"I\" vale 9, sendo que a letra seguinte (\"J\") reinicia o ciclo, valendo 1, e assim por diante. Crie uma lista com esses valores.\n",
        "\n",
        "3. Os valores da lista devem ser somados. \n",
        "\n",
        "4. Calculado esse primeiro produto, calcule a soma dos algarismos que o compõem. Por ex., digamos que a soma do passo (3) tenha resultado em 45. Você deve somar em seguida esses dois algarismos, obtendo um novo produto: 4 + 5 = 9. Se esse novo produto ainda for um número de dois algarismos, faça a soma desses algarismos novamente, até chegar a um resultado de um único algarismo.\n",
        "\n",
        "5. Exceção à soma dos algarismos: existem algumas combinações de dois números repetidos que são considerados \"Números Mestres\": 11, 22 e 33. Esses números não devem ser reduzidos. Eles já representam o seu número final. Nesta tarefa, para simplificar as coisas, você pode querer deixar essa exceção de fora.\n",
        "\n",
        "Sua tarefa é criar uma função que receba uma string (nome completo), faça esses cálculos e entregue o número do nome.\n",
        "\n",
        "Resolvida a tarefa, descubra sua personalidade e seu destino aqui:\n",
        "\n",
        "https://pt.wikihow.com/Calcular-o-N%C3%BAmero-do-seu-Nome-na-Numerologia"
      ]
    },
    {
      "cell_type": "markdown",
      "metadata": {
        "id": "yc35s-HRK9JA"
      },
      "source": [
        "# Dica\n",
        "\n",
        "Para resolver a soma interna dos produtos, como não se pode saber de antemão quantas vezes essa operação terá de ser realizada, pode ser útil usar um loop. \n",
        "\n",
        "Já conhecemos o loop com `for`, mas este pressupõe o conhecimento prévio da quantidade de iterações, o que não é o caso do problema da soma dos produtos. \n",
        "\n",
        "Ao invés do \"for\", pode ser usado um loop com o comando `while`, que é executado até que uma determinada condição seja satisfeita. Veja o código a seguir."
      ]
    },
    {
      "cell_type": "code",
      "metadata": {
        "colab": {
          "base_uri": "https://localhost:8080/"
        },
        "id": "CniYZFthKh7z",
        "outputId": "0d0b420c-5ae1-429d-855e-b6bbfff84674"
      },
      "source": [
        "contador = 10\n",
        "\n",
        "while contador > 0:\n",
        "    print(contador)\n",
        "    contador = contador - 1  # Atribui à variável seu próprio valor subtraído de 1\n"
      ],
      "execution_count": null,
      "outputs": [
        {
          "output_type": "stream",
          "name": "stdout",
          "text": [
            "10\n",
            "9\n",
            "8\n",
            "7\n",
            "6\n",
            "5\n",
            "4\n",
            "3\n",
            "2\n",
            "1\n"
          ]
        }
      ]
    },
    {
      "cell_type": "markdown",
      "metadata": {
        "id": "MT2nygrXMN_G"
      },
      "source": [
        "Se você optar por resolver o problema considerando os Números Mestres, poderá introduzir esses números no loop com `while` como uma condição excepcional que força a sair do loop. Para isso, existe o comando `break`."
      ]
    },
    {
      "cell_type": "code",
      "metadata": {
        "colab": {
          "base_uri": "https://localhost:8080/"
        },
        "id": "7469JVWFMMal",
        "outputId": "de6700dd-3886-40c7-c87a-607e64136518"
      },
      "source": [
        "contador = 10\n",
        "\n",
        "while contador > 0:\n",
        "    print(contador)\n",
        "    contador = contador - 1\n",
        "    if contador == 5:\n",
        "        break\n",
        "\n",
        "print('Depois do loop.')"
      ],
      "execution_count": null,
      "outputs": [
        {
          "output_type": "stream",
          "name": "stdout",
          "text": [
            "10\n",
            "9\n",
            "8\n",
            "7\n",
            "6\n",
            "Depois do loop.\n"
          ]
        }
      ]
    }
  ]
}
